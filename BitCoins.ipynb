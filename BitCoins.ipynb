{
  "nbformat": 4,
  "nbformat_minor": 0,
  "metadata": {
    "colab": {
      "provenance": [],
      "collapsed_sections": []
    },
    "kernelspec": {
      "name": "python3",
      "display_name": "Python 3"
    },
    "language_info": {
      "name": "python"
    }
  },
  "cells": [
    {
      "cell_type": "markdown",
      "source": [
        "Importando biblioteca Pandas e atribuindo alias('apelido')\n",
        "\n",
        "---\n",
        "\n"
      ],
      "metadata": {
        "id": "AVthvaKWiOcJ"
      }
    },
    {
      "cell_type": "code",
      "execution_count": null,
      "metadata": {
        "id": "JWsFGdSOf_DJ"
      },
      "outputs": [],
      "source": [
        "import pandas as pd"
      ]
    },
    {
      "cell_type": "markdown",
      "source": [
        "Importando csv\n",
        "\n",
        "---\n",
        "\n"
      ],
      "metadata": {
        "id": "6qNfKoJviAwd"
      }
    },
    {
      "cell_type": "code",
      "source": [
        "bitcoin = pd.read_csv('BTC-USD.csv', sep=',') #Solicitando separação por vírgula"
      ],
      "metadata": {
        "id": "QxzNOsA0gYes"
      },
      "execution_count": null,
      "outputs": []
    },
    {
      "cell_type": "markdown",
      "source": [
        "Renomeando colunas\n",
        "\n",
        "---\n"
      ],
      "metadata": {
        "id": "ifMaldN2iH6n"
      }
    },
    {
      "cell_type": "code",
      "source": [
        "bitcoin.rename(columns={'Date':'Data', 'Open':'Preço_Primeira_Transação', 'High':'Maior_Valor','Low':'Menor_Valor','Close':'Preço_Ultima_Transação','Adj Close':'Preço_Fechamento','Volume':'Numero_Bitcoins_Negociados'},inplace=True)"
      ],
      "metadata": {
        "id": "WNiIbxFLggrh"
      },
      "execution_count": null,
      "outputs": []
    },
    {
      "cell_type": "markdown",
      "source": [
        "Quantidade de linhas e colunas\n",
        "\n",
        "---\n",
        "\n"
      ],
      "metadata": {
        "id": "vAlB8KnY8KZU"
      }
    },
    {
      "cell_type": "code",
      "source": [
        "print(f\"Linhas {bitcoin.shape[0]} e Colunas {bitcoin.shape[1]}\")"
      ],
      "metadata": {
        "colab": {
          "base_uri": "https://localhost:8080/"
        },
        "id": "Anku41_s9XQ3",
        "outputId": "67801ca6-1767-4f84-8af2-6b45d02b4f99"
      },
      "execution_count": null,
      "outputs": [
        {
          "output_type": "stream",
          "name": "stdout",
          "text": [
            "Linhas 2747 e Colunas 7\n"
          ]
        }
      ]
    },
    {
      "cell_type": "markdown",
      "source": [
        "Verificando se não há valores nulos\n",
        "\n",
        "---\n"
      ],
      "metadata": {
        "id": "qtWYcrfb7h-D"
      }
    },
    {
      "cell_type": "code",
      "source": [
        "bitcoin.info()"
      ],
      "metadata": {
        "colab": {
          "base_uri": "https://localhost:8080/"
        },
        "id": "bUZtBAsb5J0g",
        "outputId": "a0f8a3e5-d4d4-428c-ac1d-856af50f28a5"
      },
      "execution_count": null,
      "outputs": [
        {
          "output_type": "stream",
          "name": "stdout",
          "text": [
            "<class 'pandas.core.frame.DataFrame'>\n",
            "RangeIndex: 2747 entries, 0 to 2746\n",
            "Data columns (total 7 columns):\n",
            " #   Column                      Non-Null Count  Dtype  \n",
            "---  ------                      --------------  -----  \n",
            " 0   Data                        2747 non-null   object \n",
            " 1   Preço_Primeira_Transação    2747 non-null   float64\n",
            " 2   Maior_Valor                 2747 non-null   float64\n",
            " 3   Menor_Valor                 2747 non-null   float64\n",
            " 4   Preço_Ultima_Transação      2747 non-null   float64\n",
            " 5   Preço_Fechamento            2747 non-null   float64\n",
            " 6   Numero_Bitcoins_Negociados  2747 non-null   int64  \n",
            "dtypes: float64(5), int64(1), object(1)\n",
            "memory usage: 150.4+ KB\n"
          ]
        }
      ]
    },
    {
      "cell_type": "markdown",
      "source": [
        "Convertendo coluna 'Data' para tipo DateTime64\n",
        "\n",
        "---\n",
        "\n"
      ],
      "metadata": {
        "id": "ulajVEudm_YW"
      }
    },
    {
      "cell_type": "code",
      "source": [
        "bitcoin['Data'] = bitcoin['Data'].astype('datetime64')"
      ],
      "metadata": {
        "id": "uMbhN24xhyBW"
      },
      "execution_count": null,
      "outputs": []
    },
    {
      "cell_type": "markdown",
      "source": [
        "Formatando números científicos, Convertendo coluna Numero_Bitcoins_Negociados para inteiro e limitando-os a 2 casas decimais e agrupando por Ano\n",
        "\n",
        "---\n",
        "\n"
      ],
      "metadata": {
        "id": "WLkFZ4MBozI1"
      }
    },
    {
      "cell_type": "code",
      "source": [
        "# Formatando para 2 casas decimais após o ponto\n",
        "pd.set_option('float_format','{:.2f}'.format) \n"
      ],
      "metadata": {
        "id": "f6xaVW2DldNI"
      },
      "execution_count": null,
      "outputs": []
    },
    {
      "cell_type": "code",
      "source": [
        "# Convertendo coluna Numero_Bitcoins_Negociados para\n",
        "bitcoin['Numero_Bitcoins_Negociados'] = bitcoin['Numero_Bitcoins_Negociados'].astype('int')"
      ],
      "metadata": {
        "id": "8R9A4BDHvMC0"
      },
      "execution_count": null,
      "outputs": []
    },
    {
      "cell_type": "code",
      "source": [
        "# Definindo o que cada coluna deve fazer e armazenando em uma variável...\n",
        "bitcoin_ano = bitcoin.groupby(pd.Grouper(key='Data', freq='Y')).agg({'Preço_Primeira_Transação':'max','Maior_Valor':'max','Menor_Valor':'min','Preço_Ultima_Transação':'max','Preço_Fechamento':'max','Numero_Bitcoins_Negociados':'mean'}) #Agrupando por data "
      ],
      "metadata": {
        "id": "4TebwPqz2Gm9"
      },
      "execution_count": null,
      "outputs": []
    },
    {
      "cell_type": "markdown",
      "source": [
        "Criando gráfico de linhas do número de negociações por Ano"
      ],
      "metadata": {
        "id": "JL3oYoHm0gN3"
      }
    },
    {
      "cell_type": "code",
      "source": [
        "bitcoin_ano['Numero_Bitcoins_Negociados'].plot(figsize=(15,10))"
      ],
      "metadata": {
        "colab": {
          "base_uri": "https://localhost:8080/",
          "height": 633
        },
        "id": "bwNNdRG6pFSM",
        "outputId": "876ae2a4-d7a5-457d-b975-476e731be468"
      },
      "execution_count": null,
      "outputs": [
        {
          "output_type": "execute_result",
          "data": {
            "text/plain": [
              "<matplotlib.axes._subplots.AxesSubplot at 0x7f35e9293650>"
            ]
          },
          "metadata": {},
          "execution_count": 253
        },
        {
          "output_type": "display_data",
          "data": {
            "text/plain": [
              "<Figure size 1080x720 with 1 Axes>"
            ],
            "image/png": "[encoded data removed]"
          },
          "metadata": {
            "needs_background": "light"
          }
        }
      ]
    },
    {
      "cell_type": "code",
      "source": [
        "bitcoin_mes = bitcoin.groupby(pd.Grouper(key='Data', freq='M')).agg({'Preço_Primeira_Transação':'max','Maior_Valor':'max','Menor_Valor':'min','Preço_Ultima_Transação':'max','Preço_Fechamento':'max','Numero_Bitcoins_Negociados':'mean'}) #Agrupando por data "
      ],
      "metadata": {
        "id": "mUUDkQ4LBtWf"
      },
      "execution_count": null,
      "outputs": []
    },
    {
      "cell_type": "markdown",
      "source": [],
      "metadata": {
        "id": "qs8Vq7Z9CNQs"
      }
    },
    {
      "cell_type": "markdown",
      "source": [
        "Ano e mês do menor número de bitcoin negociado\n",
        "\n",
        "---"
      ],
      "metadata": {
        "id": "yBLGrHwsCNXE"
      }
    },
    {
      "cell_type": "code",
      "source": [
        "bitcoin_menor_negociacao = bitcoin_mes.loc[bitcoin_mes['Numero_Bitcoins_Negociados']==bitcoin_mes['Numero_Bitcoins_Negociados'].min()]"
      ],
      "metadata": {
        "id": "kCPi18dfByPh"
      },
      "execution_count": null,
      "outputs": []
    },
    {
      "cell_type": "code",
      "source": [],
      "metadata": {
        "id": "7g053yAOB8j3"
      },
      "execution_count": null,
      "outputs": []
    }
  ]
}